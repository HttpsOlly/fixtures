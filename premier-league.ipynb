import re
import json
import requests
from bs4 import BeautifulSoup
import urllib.request

#Loads URL Source
URL = 'https://www.premierleague.com/broadcast-schedules'

#Loads exact API
URL = 'https://footballapi.pulselive.com/football/broadcasting-schedule/fixtures?page=0&pageSize=20&statuses=U,L&altIds=true&comps=1&compSeasons=418'
page = requests.get(URL, headers={'origin':'https://www.premierleague.com'})
contents = json.loads(page.content)['content']

iteration = 0
date_to_print = ""

for content in contents:
    
    date = re.search('[^\s]+\s+[^\s]+', content['fixture']['kickoff']['label'])[0]
    time = re.search("\d{2}:\d{2}", content['fixture']['kickoff']['label'])[0]
    home = content['fixture']['teams'][0]['team']['club']['abbr']
    away = content['fixture']['teams'][1]['team']['club']['abbr']
    broa = content['broadcasters'][0]['abbreviation']    
    
    if (iteration) == 10:
        break
    
    if (date_to_print != date):
        date_to_print = (date)
        print("\n" + date_to_print)
    
    print(time, home, 'v', away, '-', broa)
    
    iteration += 1
