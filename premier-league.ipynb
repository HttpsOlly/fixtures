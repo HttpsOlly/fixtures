{
 "cells": [
  {
   "cell_type": "code",
   "execution_count": 1,
   "id": "62999463",
   "metadata": {},
   "outputs": [],
   "source": [
    "import re\n",
    "import json\n",
    "import requests\n",
    "from bs4 import BeautifulSoup\n",
    "import urllib.request\n",
    "\n",
    "#Loads URL Source\n",
    "URL = 'https://www.premierleague.com/broadcast-schedules'\n",
    "\n",
    "#Loads exact API\n",
    "URL = 'https://footballapi.pulselive.com/football/broadcasting-schedule/fixtures?page=0&pageSize=20&statuses=U,L&altIds=true&comps=1&compSeasons=418'\n",
    "page = requests.get(URL, headers={'origin':'https://www.premierleague.com'})\n",
    "contents = json.loads(page.content)['content']\n",
    "\n",
    "iteration = 0\n",
    "date_to_print = \"\"\n",
    "\n",
    "for content in contents:\n",
    "    \n",
    "    date = re.search('[^\\s]+\\s+[^\\s]+', content['fixture']['kickoff']['label'])[0]\n",
    "    time = re.search(\"\\d{2}:\\d{2}\", content['fixture']['kickoff']['label'])[0]\n",
    "    home = content['fixture']['teams'][0]['team']['club']['abbr']\n",
    "    away = content['fixture']['teams'][1]['team']['club']['abbr']\n",
    "    broa = content['broadcasters'][0]['abbreviation']    \n",
    "    \n",
    "    if (iteration) == 10:\n",
    "        break\n",
    "    \n",
    "    if (date_to_print != date):\n",
    "        date_to_print = (date)\n",
    "        print(\"\\n\" + date_to_print)\n",
    "    \n",
    "    print(time, home, 'v', away, '-', broa)\n",
    "    \n",
    "    iteration += 1"
   ]
  }
 ],
 "metadata": {
  "kernelspec": {
   "display_name": "Python 3",
   "language": "python",
   "name": "python3"
  },
  "language_info": {
   "codemirror_mode": {
    "name": "ipython",
    "version": 3
   },
   "file_extension": ".py",
   "mimetype": "text/x-python",
   "name": "python",
   "nbconvert_exporter": "python",
   "pygments_lexer": "ipython3",
   "version": "3.8.2"
  }
 },
 "nbformat": 4,
 "nbformat_minor": 5
}
